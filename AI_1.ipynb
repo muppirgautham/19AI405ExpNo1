{
  "nbformat": 4,
  "nbformat_minor": 0,
  "metadata": {
    "colab": {
      "provenance": []
    },
    "kernelspec": {
      "name": "python3",
      "display_name": "Python 3"
    },
    "language_info": {
      "name": "python"
    }
  },
  "cells": [
    {
      "cell_type": "code",
      "execution_count": 1,
      "metadata": {
        "id": "RCtt5SqzDCmm"
      },
      "outputs": [],
      "source": [
        "import random\n",
        "import time"
      ]
    },
    {
      "cell_type": "code",
      "source": [
        "class Thing:\n",
        "    \"\"\"\n",
        "    This represents any physical object that can appear in an Environment. \"\"\"\n",
        "\n",
        "    def is_alive(self):\n",
        "        \"\"\"Things that are 'alive' should return true.\"\"\"\n",
        "        return hasattr(self, \"alive\") and self.alive\n",
        "\n",
        "    def show_state(self):\n",
        "        \"\"\"Display the agent's internal state. Subclasses should override.\"\"\"\n",
        "        print(\"I don't know how to show_state.\")"
      ],
      "metadata": {
        "id": "QXaZVlnmDTbz"
      },
      "execution_count": 3,
      "outputs": []
    },
    {
      "cell_type": "code",
      "source": [
        "class Agent(Thing):\n",
        "\n",
        "    \"\"\"\n",
        "        An Agent is a subclass of Thing \"\"\"\n",
        "\n",
        "    def __init__(self, program=None):\n",
        "        self.alive = True\n",
        "        self.performance = 0\n",
        "        self.program = program\n",
        "\n",
        "    def can_grab(self, thing):\n",
        "        \"\"\"Return True if this agent can grab this thing. Override for appropriate subclasses of Agent and Thing.\"\"\"\n",
        "        return False"
      ],
      "metadata": {
        "id": "-YMKiQlXDa_Q"
      },
      "execution_count": 5,
      "outputs": []
    },
    {
      "cell_type": "code",
      "source": [
        "def TableDrivenAgentProgram(table):\n",
        "    \"\"\"\n",
        "    [Figure 2.7]\n",
        "    This agent selects an action based on the percept sequence. It is practical only for tiny domains.\n",
        "    To customize it, provide as table a dictionary of all\n",
        "    {percept_sequence:action} pairs. \"\"\"\n",
        "    percepts = []\n",
        ""
      ],
      "metadata": {
        "id": "_4hBPNDEDgv2"
      },
      "execution_count": 6,
      "outputs": []
    },
    {
      "cell_type": "code",
      "source": [
        "def program(percept):\n",
        "        action = None\n",
        "        percepts.append(percept)\n",
        "        action = table.get(tuple(percepts))\n",
        "        return action\n",
        "\n",
        "program= program"
      ],
      "metadata": {
        "id": "A7iVG-IiDlsT"
      },
      "execution_count": 15,
      "outputs": []
    },
    {
      "cell_type": "code",
      "source": [
        "room_A, room_B = (0,0), (1,0)\n",
        "def TableDrivenVacuumCleanerAgent():\n",
        "    \"\"\"\n",
        "    Tabular approach towards hospital function.\n",
        "    \"\"\"\n",
        "\n",
        "    table = {\n",
        "    ((room_A, \"clean\"),): \"Right\",\n",
        "    ((room_A, \"dirty\"),): \"suck\",\n",
        "    ((room_B, \"clean\"),): \"Left\",\n",
        "    ((room_B, \"dirty\"),): \"suck\",\n",
        "    ((room_A, \"dirty\"), (room_A, \"clean\")): \"Right\",\n",
        "    ((room_A, \"clean\"), (room_B, \"dirty\")): \"suck\",\n",
        "    ((room_B, \"clean\"), (room_A, \"dirty\")): \"suck\",\n",
        "    ((room_B, \"dirty\"), (room_B, \"clean\")): \"Left\",\n",
        "    ((room_A, \"dirty\"), (room_A, \"clean\"), (room_B, \"dirty\")): \"suck\",\n",
        "    ((room_B, \"dirty\"), (room_B, \"clean\"), (room_A, \"dirty\")): \"suck\",\n",
        "    }\n",
        "    return Agent(TableDrivenAgentProgram(table))"
      ],
      "metadata": {
        "id": "AlOlYgW0DvJc"
      },
      "execution_count": 17,
      "outputs": []
    },
    {
      "cell_type": "code",
      "source": [
        "TableDrivenVacuumCleanerAgent()\n",
        "class Environment:\n",
        "    \"\"\"Abstract class representing an Environment. 'Real' Environment classes inherit from this. Your Environment will typically need to implement:\n",
        "    percept:\tDefine the percept that an agent sees. execute_action:\tDefine the effects of executing an action.\n",
        "    Also update the agent.performance slot.\n",
        "    The environment keeps a list of .things and .agents (which is a subset of .things). Each agent has a .performance slot, initialized to 0.\n",
        "    Each thing has a .location slot, even though some environments may not need this.\"\"\"\n"
      ],
      "metadata": {
        "id": "iTfmKwG8ETFy"
      },
      "execution_count": 19,
      "outputs": []
    },
    {
      "cell_type": "code",
      "source": [
        "  def __init__(self):\n",
        "        self.things = []\n",
        "        self.agents = []\n",
        "        #room_A, room_B = (0,0), (1,0) # The two locations for the Doctor to treat"
      ],
      "metadata": {
        "id": "3n0T9oa0EWrx"
      },
      "execution_count": 20,
      "outputs": []
    },
    {
      "cell_type": "code",
      "source": [
        "  def percept(self, agent):\n",
        "        \"\"\"Return the percept that the agent sees at this point. (Implement this.)\"\"\"\n",
        "        raise NotImplementedError\n"
      ],
      "metadata": {
        "id": "b_iUz6U2Et9-"
      },
      "execution_count": 21,
      "outputs": []
    },
    {
      "cell_type": "code",
      "source": [
        " def execute_action(self, agent, action):\n",
        "        \"\"\"Change the world to reflect this action. (Implement this.)\"\"\"\n",
        "        raise NotImplementedError"
      ],
      "metadata": {
        "id": "N_YIlSBGExIB"
      },
      "execution_count": 22,
      "outputs": []
    },
    {
      "cell_type": "code",
      "source": [
        "def default_location(self, thing):\n",
        "        \"\"\"Default location to place a new thing with unspecified location.\"\"\"\n",
        "        return None"
      ],
      "metadata": {
        "id": "B8TN7_VqEzwg"
      },
      "execution_count": 23,
      "outputs": []
    },
    {
      "cell_type": "code",
      "source": [
        " def is_done(self):\n",
        "        \"\"\"By default, we're done when we can't find a live agent.\"\"\"\n",
        "        return not any(agent.is_alive() for agent in self.agents)"
      ],
      "metadata": {
        "id": "Upo1xbhBE2FM"
      },
      "execution_count": 25,
      "outputs": []
    },
    {
      "cell_type": "code",
      "source": [
        "def step(self):\n",
        "        \"\"\"Run the environment for one time step. If the\n",
        "        actions and exogenous changes are independent, this method will do. If there are interactions between them, you'll need to override this method.\"\"\"\n",
        "        if not self.is_done():\n",
        "            actions = []\n",
        "            for agent in self.agents:\n",
        "                if agent.alive:\n",
        "                    actions.append(agent.program(self.percept(agent)))\n",
        "                else:\n",
        "                    actions.append(\"\")\n",
        "            for (agent, action) in zip(self.agents, actions):\n",
        "                self.execute_action(agent, action)\n"
      ],
      "metadata": {
        "id": "U0KGUF8mE_jZ"
      },
      "execution_count": 26,
      "outputs": []
    },
    {
      "cell_type": "code",
      "source": [
        " def run(self, steps=1000):\n",
        "        \"\"\"Run the Environment for given number of time steps.\"\"\"\n",
        "        for step in range(steps):\n",
        "            if self.is_done():\n",
        "                return\n",
        "            self.step()"
      ],
      "metadata": {
        "id": "lVcjLIp8FCFa"
      },
      "execution_count": 27,
      "outputs": []
    },
    {
      "cell_type": "code",
      "source": [
        "def add_thing(self, thing, location=None):\n",
        "        \"\"\"Add a thing to the environment, setting its location. For convenience, if thing is an agent program we make a new agent for it. (Shouldn't need to override this.)\"\"\"\n",
        "        if not isinstance(thing, Thing):\n",
        "            thing = Agent(thing)\n",
        "        if thing in self.things:\n",
        "            print(\"Can't add the same thing twice\")\n",
        "        else:\n",
        "            thing.location = (location if location is not None else self.default_location(thing))\n",
        "            self.things.append(thing)\n",
        "        if isinstance(thing, Agent):\n",
        "                thing.performance = 0\n",
        "                self.agents.append(thing)"
      ],
      "metadata": {
        "id": "eeK0gMmGFEuc"
      },
      "execution_count": 30,
      "outputs": []
    },
    {
      "cell_type": "code",
      "source": [
        "    def delete_thing(self, thing):\n",
        "        \"\"\"Remove a thing from the environment.\"\"\"\n",
        "        try:\n",
        "\n",
        "            self.things.remove(thing)\n",
        "        except ValueError as e:\n",
        "            print(e)\n",
        "            print(\" in Environment delete_thing\")\n",
        "            print(\" Thing to be removed: {} at {}\".format(thing, thing.location))\n",
        "            print(\" from list: {}\".format([(thing, thing.location) for thing in self.things]))\n",
        "        if thing in self.agents:\n",
        "            self.agents.remove(thing)\n"
      ],
      "metadata": {
        "id": "aq0abrDeFHyl"
      },
      "execution_count": 31,
      "outputs": []
    },
    {
      "cell_type": "code",
      "source": [
        "class TrivialIndoorEnvironment(Environment):\n",
        "    \"\"\"This environment has two locations, A and B. Each can be dirty or clean. The agent perceives its location and the location's status. This serves as an example of how to implement a simple Environment.\"\"\"\n",
        "\n",
        "    def __init__(self):\n",
        "        super().__init__()\n",
        "        #room_A, room_B = (0,0), (1,0) # The two locations for the Doctor to suck\n",
        "        self.status = {room_A: random.choice([\"clean\", \"dirty\"]), room_B: random.choice([\"clean\", \"dirty\"]),}\n",
        "\n",
        "    def thing_classes(self):\n",
        "        return [TableDrivenVacuumCleanerAgent]\n",
        "\n",
        "    def percept(self, agent):\n",
        "        \"\"\"Returns the agent's location, and the location status (dirty/clean).\"\"\"\n",
        "        return agent.location, self.status[agent.location]"
      ],
      "metadata": {
        "id": "eCj1hGx0FMjU"
      },
      "execution_count": 32,
      "outputs": []
    },
    {
      "cell_type": "code",
      "source": [
        " def execute_action(self, agent, action):\n",
        "        \"\"\"Change agent's location and/or location's status; track performance. Score 10 for each treatment; -1 for each move.\"\"\"\n",
        "        if action == \"Right\":\n",
        "            agent.location = room_B\n",
        "            agent.performance -= 1\n",
        "        elif action == \"Left\":\n",
        "            agent.location = room_A\n",
        "            agent.performance -= 1\n",
        "        elif action == \"suck\":\n",
        "            tem=float(input(\"performance: \"))\n",
        "            if tem>=98.5:\n",
        "                self.status[agent.location] == \"dirty\"\n",
        "                print(\"medicine prescribed: paracetamol and anti-biotic(low dose)\")\n",
        "                agent.performance += 10\n",
        "            else:\n",
        "                self.status[agent.location] = \"clean\"\n",
        "            self.status[agent.location] = \"clean\"\n"
      ],
      "metadata": {
        "id": "cHm37MIYFYln"
      },
      "execution_count": 33,
      "outputs": []
    },
    {
      "cell_type": "code",
      "source": [
        "def default_location(self, thing):\n",
        "\n",
        "        return random.choice([room_A, room_B])\n",
        "if   __name__ == \"__main__\":\n",
        "\n",
        "    agent = TableDrivenVacuumCleanerAgent()\n",
        "    environment = TrivialIndoorEnvironment()\n",
        "    #print(environment)\n",
        "    environment.add_thing(agent)\n",
        "    print(\"\\tStatus of vacuum cleaner before cleaning\")\n",
        "    print(environment.status)\n",
        "    print(\"AgentLocation : {0}\".format(agent.location))\n",
        "    print(\"Performance : {0}\".format(agent.performance))\n",
        "    time.sleep(3)\n",
        "    for i in range(2):\n",
        "        environment.run(steps=1)\n",
        "        print(\"\\n\\tStatus of vacuum cleaner after the treatment\")\n",
        "        print(environment.status)\n",
        "        print(\"AgentLocation : {0}\".format(agent.location))\n",
        "        print(\"Performance : {0}\".format(agent.performance))\n",
        "        time.sleep(3)"
      ],
      "metadata": {
        "colab": {
          "base_uri": "https://localhost:8080/"
        },
        "id": "W57EshbaFe0C",
        "outputId": "f3240e25-cf80-485d-9522-84bd0a9ce2c6"
      },
      "execution_count": 37,
      "outputs": [
        {
          "output_type": "stream",
          "name": "stdout",
          "text": [
            "\tStatus of vacuum cleaner before cleaning\n",
            "{(0, 0): 'clean', (1, 0): 'dirty'}\n",
            "AgentLocation : (1, 0)\n",
            "Performance : 0\n",
            "performance: 1\n",
            "\n",
            "\tStatus of vacuum cleaner after the treatment\n",
            "{(0, 0): 'clean', (1, 0): 'clean'}\n",
            "AgentLocation : (1, 0)\n",
            "Performance : 0\n",
            "\n",
            "\tStatus of vacuum cleaner after the treatment\n",
            "{(0, 0): 'clean', (1, 0): 'clean'}\n",
            "AgentLocation : (0, 0)\n",
            "Performance : -1\n"
          ]
        }
      ]
    }
  ]
}